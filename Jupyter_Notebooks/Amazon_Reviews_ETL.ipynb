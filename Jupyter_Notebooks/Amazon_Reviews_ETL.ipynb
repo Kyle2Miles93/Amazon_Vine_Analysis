{
  "nbformat": 4,
  "nbformat_minor": 0,
  "metadata": {
    "colab": {
      "name": "Amazon_Reviews_ETL.ipynb",
      "provenance": [],
      "collapsed_sections": []
    },
    "kernelspec": {
      "name": "python3",
      "display_name": "Python 3"
    },
    "nteract": {
      "version": "0.12.3"
    },
    "language_info": {
      "name": "python"
    }
  },
  "cells": [
    {
      "cell_type": "code",
      "metadata": {
        "colab": {
          "base_uri": "https://localhost:8080/"
        },
        "id": "V58rxea0HqSa",
        "outputId": "5f72072f-4c41-4fdd-b956-a12170b60d4b"
      },
      "source": [
        "import os\n",
        "# Find the latest version of spark 2.0  from http://www-us.apache.org/dist/spark/ and enter as the spark version\n",
        "# For example:\n",
        "# spark_version = 'spark-3.0.2'\n",
        "spark_version = 'spark-3.0.2'\n",
        "os.environ['SPARK_VERSION']=spark_version\n",
        "\n",
        "# Install Spark and Java\n",
        "!apt-get update\n",
        "!apt-get install openjdk-11-jdk-headless -qq > /dev/null\n",
        "!wget -q http://www-us.apache.org/dist/spark/$SPARK_VERSION/$SPARK_VERSION-bin-hadoop2.7.tgz\n",
        "!tar xf $SPARK_VERSION-bin-hadoop2.7.tgz\n",
        "!pip install -q findspark\n",
        "\n",
        "# Set Environment Variables\n",
        "import os\n",
        "os.environ[\"JAVA_HOME\"] = \"/usr/lib/jvm/java-11-openjdk-amd64\"\n",
        "os.environ[\"SPARK_HOME\"] = f\"/content/{spark_version}-bin-hadoop2.7\"\n",
        "\n",
        "# Start a SparkSession\n",
        "import findspark\n",
        "findspark.init()"
      ],
      "execution_count": null,
      "outputs": [
        {
          "output_type": "stream",
          "text": [
            "\r0% [Working]\r            \rIgn:1 https://developer.download.nvidia.com/compute/cuda/repos/ubuntu1804/x86_64  InRelease\n",
            "\r0% [Connecting to archive.ubuntu.com] [Connecting to security.ubuntu.com] [Conn\r                                                                               \rIgn:2 https://developer.download.nvidia.com/compute/machine-learning/repos/ubuntu1804/x86_64  InRelease\n",
            "\r0% [Connecting to archive.ubuntu.com] [Connecting to security.ubuntu.com] [Conn\r                                                                               \rHit:3 https://developer.download.nvidia.com/compute/cuda/repos/ubuntu1804/x86_64  Release\n",
            "Hit:4 https://developer.download.nvidia.com/compute/machine-learning/repos/ubuntu1804/x86_64  Release\n",
            "Get:5 https://cloud.r-project.org/bin/linux/ubuntu bionic-cran40/ InRelease [3,626 B]\n",
            "Get:7 http://ppa.launchpad.net/c2d4u.team/c2d4u4.0+/ubuntu bionic InRelease [15.9 kB]\n",
            "Hit:8 http://archive.ubuntu.com/ubuntu bionic InRelease\n",
            "Get:9 http://security.ubuntu.com/ubuntu bionic-security InRelease [88.7 kB]\n",
            "Get:11 http://archive.ubuntu.com/ubuntu bionic-updates InRelease [88.7 kB]\n",
            "Get:12 https://cloud.r-project.org/bin/linux/ubuntu bionic-cran40/ Packages [52.7 kB]\n",
            "Hit:13 http://ppa.launchpad.net/cran/libgit2/ubuntu bionic InRelease\n",
            "Get:14 http://archive.ubuntu.com/ubuntu bionic-backports InRelease [74.6 kB]\n",
            "Hit:15 http://ppa.launchpad.net/deadsnakes/ppa/ubuntu bionic InRelease\n",
            "Hit:16 http://ppa.launchpad.net/graphics-drivers/ppa/ubuntu bionic InRelease\n",
            "Get:17 http://security.ubuntu.com/ubuntu bionic-security/main amd64 Packages [2,045 kB]\n",
            "Get:18 http://ppa.launchpad.net/c2d4u.team/c2d4u4.0+/ubuntu bionic/main Sources [1,749 kB]\n",
            "Get:19 http://archive.ubuntu.com/ubuntu bionic-updates/main amd64 Packages [2,475 kB]\n",
            "Get:20 http://security.ubuntu.com/ubuntu bionic-security/universe amd64 Packages [1,402 kB]\n",
            "Get:21 http://archive.ubuntu.com/ubuntu bionic-updates/universe amd64 Packages [2,170 kB]\n",
            "Get:22 http://ppa.launchpad.net/c2d4u.team/c2d4u4.0+/ubuntu bionic/main amd64 Packages [895 kB]\n",
            "Fetched 11.1 MB in 4s (2,975 kB/s)\n",
            "Reading package lists... Done\n"
          ],
          "name": "stdout"
        }
      ]
    },
    {
      "cell_type": "code",
      "metadata": {
        "colab": {
          "base_uri": "https://localhost:8080/"
        },
        "id": "_xKwTpATHqSe",
        "outputId": "506e150d-03d8-4e8b-b5ed-c1204b62dfaf"
      },
      "source": [
        "# Download the Postgres driver that will allow Spark to interact with Postgres.\n",
        "!wget https://jdbc.postgresql.org/download/postgresql-42.2.16.jar"
      ],
      "execution_count": null,
      "outputs": [
        {
          "output_type": "stream",
          "text": [
            "--2021-04-02 20:29:57--  https://jdbc.postgresql.org/download/postgresql-42.2.16.jar\n",
            "Resolving jdbc.postgresql.org (jdbc.postgresql.org)... 72.32.157.228, 2001:4800:3e1:1::228\n",
            "Connecting to jdbc.postgresql.org (jdbc.postgresql.org)|72.32.157.228|:443... connected.\n",
            "HTTP request sent, awaiting response... 200 OK\n",
            "Length: 1002883 (979K) [application/java-archive]\n",
            "Saving to: ‘postgresql-42.2.16.jar’\n",
            "\n",
            "postgresql-42.2.16. 100%[===================>] 979.38K  6.04MB/s    in 0.2s    \n",
            "\n",
            "2021-04-02 20:29:58 (6.04 MB/s) - ‘postgresql-42.2.16.jar’ saved [1002883/1002883]\n",
            "\n"
          ],
          "name": "stdout"
        }
      ]
    },
    {
      "cell_type": "code",
      "metadata": {
        "id": "MMqDAjVS0KN9"
      },
      "source": [
        "from pyspark.sql import SparkSession\n",
        "spark = SparkSession.builder.appName(\"BigData-Challenge\").config(\"spark.driver.extraClassPath\",\"/content/postgresql-42.2.16.jar\").getOrCreate()"
      ],
      "execution_count": null,
      "outputs": []
    },
    {
      "cell_type": "markdown",
      "metadata": {
        "id": "cyBsySGuY-9V"
      },
      "source": [
        "### Load Amazon Data into Spark DataFrame"
      ]
    },
    {
      "cell_type": "code",
      "metadata": {
        "id": "CtCmBhQJY-9Z"
      },
      "source": [
        "from pyspark import SparkFiles\n",
        "url = \"https://s3.amazonaws.com/amazon-reviews-pds/tsv/amazon_reviews_multilingual_DE_v1_00.tsv.gz\"\n",
        "spark.sparkContext.addFile(url)\n",
        "df = spark.read.option(\"encoding\", \"UTF-8\").csv(SparkFiles.get(\"amazon_reviews_multilingual_DE_v1_00.tsv.gz\"), sep=\"\\t\", header=True, inferSchema=True)"
      ],
      "execution_count": null,
      "outputs": []
    },
    {
      "cell_type": "markdown",
      "metadata": {
        "id": "2yUSe55VY-9t"
      },
      "source": [
        "### Create DataFrames to match tables"
      ]
    },
    {
      "cell_type": "code",
      "metadata": {
        "id": "C8REmY1aY-9u",
        "colab": {
          "base_uri": "https://localhost:8080/"
        },
        "outputId": "31756f7a-ce5a-4876-c3a0-0740bf3f85dc"
      },
      "source": [
        "from pyspark.sql.functions import *\n",
        "# Read in the Review dataset as a DataFrame\n",
        "\n",
        "df.show()"
      ],
      "execution_count": null,
      "outputs": [
        {
          "output_type": "stream",
          "text": [
            "+-----------+-----------+--------------+----------+--------------+--------------------+--------------------+-----------+-------------+-----------+----+-----------------+--------------------+--------------------+-----------+\n",
            "|marketplace|customer_id|     review_id|product_id|product_parent|       product_title|    product_category|star_rating|helpful_votes|total_votes|vine|verified_purchase|     review_headline|         review_body|review_date|\n",
            "+-----------+-----------+--------------+----------+--------------+--------------------+--------------------+-----------+-------------+-----------+----+-----------------+--------------------+--------------------+-----------+\n",
            "|         DE|      10133| RVOG49N0H1FB6|B004TACMZ8|     569741360|Bosch GMS120 Ortu...|    Home Improvement|          5|            0|          0|   N|                Y|               Super|Delivery took a l...| 2014-08-01|\n",
            "|         DE|      19612| RNCMD6OLTP4HM|1846071224|     785505948|The Wheels On The...|               Books|          5|            1|          1|   N|                Y|   Great compilation|We enjoy listenin...| 2014-12-04|\n",
            "|         DE|      19612| R4AUOBI8YC0R8|0375851569|     516548029|Dr. Seuss's  Begi...|               Books|          5|            0|          0|   N|                Y|    Great Collection|Very great compil...| 2014-12-04|\n",
            "|         DE|      19677|R1VSHIJ1RHIBTE|B0060SVG54|     302116447|   Zwei an einem Tag|           Video DVD|          5|            0|          0|   N|                Y|    Guter Verfilmung|Den Film habe ich...| 2015-07-16|\n",
            "|         DE|      19999|R3JBLVALWSLCZD|B00EYQ6CVC|     368843515|Dr. House - Die k...|           Video DVD|          5|            9|         14|   N|                Y|    Kauft diese Box!|Die Box ist super...| 2014-02-08|\n",
            "|         DE|      20014| RJ6GK77Y2NKCK|B00MC1CCAG|     663681053|     This is England|Digital_Video_Dow...|          4|            6|          7|   N|                Y|Guter Film mit pa...|Sehr guter Film m...| 2014-11-11|\n",
            "|         DE|      20152| R13W0E5EDX50J|B005D7FKWI|     182054491|Seiko Herren-Armb...|             Watches|          5|            0|          1|   N|                Y|           tolle uhr|habe die Uhr jetz...| 2013-10-04|\n",
            "|         DE|      20152|R2L8UN6YSPY1CK|B007W9KQ9W|     251269761|Battleship [Blu-ray]|           Video DVD|          3|            1|          3|   N|                Y|         popkornkino|die geschichte sc...| 2013-10-04|\n",
            "|         DE|      20152| RA2DFU68J832H|B005F3DFXG|     283218719|Planet Dinosaur [...|           Video DVD|          4|            1|          1|   N|                Y|     planet dinosaur|englische Origina...| 2013-10-04|\n",
            "|         DE|      20152|R191XKANDDV34N|B00EYXGOYK|     678332854|Thor  (+ BR) [3D ...|           Video DVD|          4|            0|          1|   N|                Y| schönes popcornkino|der film ist wirk...| 2013-11-29|\n",
            "|         DE|      20152| RD2NWWDF0S2B9|B00BRC6PYU|     715581077|Cirque du Soleil:...|           Video DVD|          4|            0|          0|   N|                N|         schöne doku|cameron hat hier ...| 2014-05-21|\n",
            "|         DE|      20152|R35SNJXI0Y9J1T|B00DZFMC4Y|     542832677|Star Wars: The Cl...|           Video DVD|          5|            1|          2|   N|                Y|        gute staffel|wie die Vorgänger...| 2014-05-21|\n",
            "|         DE|      20152| RINDU5W9G6K4N|B00F6MQUTW|     827187473|Prometheus - Dunk...|           Video DVD|          4|            1|          4|   N|                N|         tolles kino|bis auf das offen...| 2014-05-21|\n",
            "|         DE|      20152| RST7O96P1CQ1W|B007IPJDWQ|     316484262| The Thing [Blu-ray]|           Video DVD|          4|            0|          0|   N|                Y|    kein kurt russel|der film ist dem ...| 2014-05-21|\n",
            "|         DE|      20376|R1XHO93RQTYDOC|B009WIJW7S|     888030084|Vielleicht lieber...|           Video DVD|          5|            0|          0|   N|                Y|         Toller Film|Ich möchte gar ni...| 2013-11-20|\n",
            "|         DE|      20376|R36ZVPG9CLQ9AA|B008JR9DEA|      49567875|Falling Skies - D...|           Video DVD|          5|            0|          3|   N|                Y|         Tolle Serie|Ich finde Falling...| 2013-11-20|\n",
            "|         DE|      20402|R1V0KMT27C9V2T|B0041LG08U|     377907320|Seiko Herren-Armb...|             Watches|          5|            2|          3|   N|                Y|    very very glossy|unglaublich was s...| 2013-06-16|\n",
            "|         DE|      20426| RKAV2XKT05EMW|B00HFVE8QE|     590459143|  Skateboard Party 2|         Mobile_Apps|          4|            1|          4|   N|                Y|k&ouml;nnte noch ...|spielt sich wie d...| 2015-01-31|\n",
            "|         DE|      20426|R2BPDAX4D5S1WK|B00QUY6MZM|     672024888|        Interstellar|           Video DVD|          5|            0|          4|   N|                Y|Bester Sci-Fi Fil...|Für Sci-Fi-Fans u...| 2015-05-15|\n",
            "|         DE|      20426|R3FI2HPM7ZDHUP|B00CA3C1N4|     276804524|     Starlink (Full)|         Mobile_Apps|          5|            0|          0|   N|                Y|Dieses Spiel mach...|Hier vereinen sic...| 2015-06-20|\n",
            "+-----------+-----------+--------------+----------+--------------+--------------------+--------------------+-----------+-------------+-----------+----+-----------------+--------------------+--------------------+-----------+\n",
            "only showing top 20 rows\n",
            "\n"
          ],
          "name": "stdout"
        }
      ]
    },
    {
      "cell_type": "code",
      "metadata": {
        "id": "B0TESUDRY-90",
        "colab": {
          "base_uri": "https://localhost:8080/"
        },
        "outputId": "25c01f16-82c0-4d2b-c204-8262aec60336"
      },
      "source": [
        "# Create the customers_table DataFrame\n",
        "customers_df = df.groupby(df[\"customer_id\"]).agg(count(df.customer_id)).withColumnRenamed(\"count(customer_id)\", \"customer_count\")\n",
        "customers_df.show()"
      ],
      "execution_count": null,
      "outputs": [
        {
          "output_type": "stream",
          "text": [
            "+-----------+--------------+\n",
            "|customer_id|customer_count|\n",
            "+-----------+--------------+\n",
            "|      38153|             3|\n",
            "|    2094984|             1|\n",
            "|    3006039|             1|\n",
            "|    3121833|             1|\n",
            "|    3391089|             8|\n",
            "|    3470216|             2|\n",
            "|    3529901|             1|\n",
            "|    3744024|             1|\n",
            "|    3768097|             1|\n",
            "|    3804964|             1|\n",
            "|    3908493|             1|\n",
            "|    3949894|             1|\n",
            "|    3975970|             1|\n",
            "|    3980089|             1|\n",
            "|    4614773|             2|\n",
            "|    4672448|             2|\n",
            "|    4816572|             1|\n",
            "|    4876799|             1|\n",
            "|    4991959|             1|\n",
            "|    5011347|             1|\n",
            "+-----------+--------------+\n",
            "only showing top 20 rows\n",
            "\n"
          ],
          "name": "stdout"
        }
      ]
    },
    {
      "cell_type": "code",
      "metadata": {
        "id": "4FwXA6UvY-96",
        "colab": {
          "base_uri": "https://localhost:8080/"
        },
        "outputId": "e87c43d8-051e-4af5-97aa-8e5a85c15240"
      },
      "source": [
        "# Create the products_table DataFrame and drop duplicates. \n",
        "products_df = df.select(df[\"product_id\"], df[\"product_title\"]).drop_duplicates()\n",
        "products_df.show()"
      ],
      "execution_count": null,
      "outputs": [
        {
          "output_type": "stream",
          "text": [
            "+----------+--------------------+\n",
            "|product_id|       product_title|\n",
            "+----------+--------------------+\n",
            "|B00BRC6PYU|Cirque du Soleil:...|\n",
            "|B005AH411M|       Der Zoowärter|\n",
            "|B006FG3QSG|Paranormal Activi...|\n",
            "|B004AMAG6W|Greatest Hits...S...|\n",
            "|B000075BFK|         Better Dayz|\n",
            "|014241543X|           If I Stay|\n",
            "|B0000DCXS4|         Patch Adams|\n",
            "|B00004S5RI|         Poltergeist|\n",
            "|B0036GLFPY|Terminator 2 [Blu...|\n",
            "|B00KY1Y64Q|Der kleine Nick [...|\n",
            "|B000TP1KFK|Monty Python - Di...|\n",
            "|B0083U94D8|Intel Core i5-357...|\n",
            "|144476490X|Bob: No Ordinary Cat|\n",
            "|B00N0T38LG|.5: The Gray Chap...|\n",
            "|B009ACJSSO|[UK-Import]Jaws L...|\n",
            "|B003E3TQZK|        A Single Man|\n",
            "|B00EQZUJGK|Butterfly Effect ...|\n",
            "|B00EQZSRRI|     Cinema Paradiso|\n",
            "|B00BQXM558|Fun English: Engl...|\n",
            "|B0021BA3OO|Iron Man (Uncut U...|\n",
            "+----------+--------------------+\n",
            "only showing top 20 rows\n",
            "\n"
          ],
          "name": "stdout"
        }
      ]
    },
    {
      "cell_type": "code",
      "metadata": {
        "id": "MkqyCuNQY-9-",
        "colab": {
          "base_uri": "https://localhost:8080/"
        },
        "outputId": "c02438ea-9576-4e7a-b560-5405b08f69a3"
      },
      "source": [
        "# Create the review_id_table DataFrame. \n",
        "# Convert the 'review_date' column to a date datatype with to_date(\"review_date\", 'yyyy-MM-dd').alias(\"review_date\")\n",
        "review_id_df = df.select([\"review_id\", \"customer_id\", \"product_id\", \"product_parent\", to_date(\"review_date\", 'yyyy-MM-dd').alias(\"review_date\")])\n",
        "review_id_df.show()"
      ],
      "execution_count": null,
      "outputs": [
        {
          "output_type": "stream",
          "text": [
            "+--------------+-----------+----------+--------------+-----------+\n",
            "|     review_id|customer_id|product_id|product_parent|review_date|\n",
            "+--------------+-----------+----------+--------------+-----------+\n",
            "| RVOG49N0H1FB6|      10133|B004TACMZ8|     569741360| 2014-08-01|\n",
            "| RNCMD6OLTP4HM|      19612|1846071224|     785505948| 2014-12-04|\n",
            "| R4AUOBI8YC0R8|      19612|0375851569|     516548029| 2014-12-04|\n",
            "|R1VSHIJ1RHIBTE|      19677|B0060SVG54|     302116447| 2015-07-16|\n",
            "|R3JBLVALWSLCZD|      19999|B00EYQ6CVC|     368843515| 2014-02-08|\n",
            "| RJ6GK77Y2NKCK|      20014|B00MC1CCAG|     663681053| 2014-11-11|\n",
            "| R13W0E5EDX50J|      20152|B005D7FKWI|     182054491| 2013-10-04|\n",
            "|R2L8UN6YSPY1CK|      20152|B007W9KQ9W|     251269761| 2013-10-04|\n",
            "| RA2DFU68J832H|      20152|B005F3DFXG|     283218719| 2013-10-04|\n",
            "|R191XKANDDV34N|      20152|B00EYXGOYK|     678332854| 2013-11-29|\n",
            "| RD2NWWDF0S2B9|      20152|B00BRC6PYU|     715581077| 2014-05-21|\n",
            "|R35SNJXI0Y9J1T|      20152|B00DZFMC4Y|     542832677| 2014-05-21|\n",
            "| RINDU5W9G6K4N|      20152|B00F6MQUTW|     827187473| 2014-05-21|\n",
            "| RST7O96P1CQ1W|      20152|B007IPJDWQ|     316484262| 2014-05-21|\n",
            "|R1XHO93RQTYDOC|      20376|B009WIJW7S|     888030084| 2013-11-20|\n",
            "|R36ZVPG9CLQ9AA|      20376|B008JR9DEA|      49567875| 2013-11-20|\n",
            "|R1V0KMT27C9V2T|      20402|B0041LG08U|     377907320| 2013-06-16|\n",
            "| RKAV2XKT05EMW|      20426|B00HFVE8QE|     590459143| 2015-01-31|\n",
            "|R2BPDAX4D5S1WK|      20426|B00QUY6MZM|     672024888| 2015-05-15|\n",
            "|R3FI2HPM7ZDHUP|      20426|B00CA3C1N4|     276804524| 2015-06-20|\n",
            "+--------------+-----------+----------+--------------+-----------+\n",
            "only showing top 20 rows\n",
            "\n"
          ],
          "name": "stdout"
        }
      ]
    },
    {
      "cell_type": "code",
      "metadata": {
        "id": "lzMmkdKmY--D",
        "colab": {
          "base_uri": "https://localhost:8080/"
        },
        "outputId": "a7940752-5acb-4bbd-e285-582252983344"
      },
      "source": [
        "# Create the vine_table. DataFrame\n",
        "vine_df = df.select([\"review_id\", \"star_rating\", \"helpful_votes\", \"total_votes\", \"vine\", \"verified_purchase\"])\n",
        "vine_df.show()"
      ],
      "execution_count": null,
      "outputs": [
        {
          "output_type": "stream",
          "text": [
            "+--------------+-----------+-------------+-----------+----+-----------------+\n",
            "|     review_id|star_rating|helpful_votes|total_votes|vine|verified_purchase|\n",
            "+--------------+-----------+-------------+-----------+----+-----------------+\n",
            "| RVOG49N0H1FB6|          5|            0|          0|   N|                Y|\n",
            "| RNCMD6OLTP4HM|          5|            1|          1|   N|                Y|\n",
            "| R4AUOBI8YC0R8|          5|            0|          0|   N|                Y|\n",
            "|R1VSHIJ1RHIBTE|          5|            0|          0|   N|                Y|\n",
            "|R3JBLVALWSLCZD|          5|            9|         14|   N|                Y|\n",
            "| RJ6GK77Y2NKCK|          4|            6|          7|   N|                Y|\n",
            "| R13W0E5EDX50J|          5|            0|          1|   N|                Y|\n",
            "|R2L8UN6YSPY1CK|          3|            1|          3|   N|                Y|\n",
            "| RA2DFU68J832H|          4|            1|          1|   N|                Y|\n",
            "|R191XKANDDV34N|          4|            0|          1|   N|                Y|\n",
            "| RD2NWWDF0S2B9|          4|            0|          0|   N|                N|\n",
            "|R35SNJXI0Y9J1T|          5|            1|          2|   N|                Y|\n",
            "| RINDU5W9G6K4N|          4|            1|          4|   N|                N|\n",
            "| RST7O96P1CQ1W|          4|            0|          0|   N|                Y|\n",
            "|R1XHO93RQTYDOC|          5|            0|          0|   N|                Y|\n",
            "|R36ZVPG9CLQ9AA|          5|            0|          3|   N|                Y|\n",
            "|R1V0KMT27C9V2T|          5|            2|          3|   N|                Y|\n",
            "| RKAV2XKT05EMW|          4|            1|          4|   N|                Y|\n",
            "|R2BPDAX4D5S1WK|          5|            0|          4|   N|                Y|\n",
            "|R3FI2HPM7ZDHUP|          5|            0|          0|   N|                Y|\n",
            "+--------------+-----------+-------------+-----------+----+-----------------+\n",
            "only showing top 20 rows\n",
            "\n"
          ],
          "name": "stdout"
        }
      ]
    },
    {
      "cell_type": "markdown",
      "metadata": {
        "id": "jITZhLkmY--J"
      },
      "source": [
        "### Connect to the AWS RDS instance and write each DataFrame to its table. "
      ]
    },
    {
      "cell_type": "code",
      "metadata": {
        "id": "7jiUvs1aY--L"
      },
      "source": [
        "# Configure settings for RDS\n",
        "mode = \"append\"\n",
        "jdbc_url=\"jdbc:postgresql://dataviz.cwbz5r3ufcj5.us-east-2.rds.amazonaws.com:5432/Challenge_16\"\n",
        "config = {\"user\":\"postgres\", \n",
        "          \"password\": \"mythangs93\", \n",
        "          \"driver\":\"org.postgresql.Driver\"}"
      ],
      "execution_count": null,
      "outputs": []
    },
    {
      "cell_type": "code",
      "metadata": {
        "id": "T2zgZ-aKY--Q"
      },
      "source": [
        "# Write review_id_df to table in RDS\n",
        "review_id_df.write.jdbc(url=jdbc_url, table='review_id_table', mode=mode, properties=config)"
      ],
      "execution_count": null,
      "outputs": []
    },
    {
      "cell_type": "code",
      "metadata": {
        "id": "1m3yzn-LY--U"
      },
      "source": [
        "# Write products_df to table in RDS\n",
        "# about 3 min\n",
        "products_df.write.jdbc(url=jdbc_url, table='products_table', mode=mode, properties=config)"
      ],
      "execution_count": null,
      "outputs": []
    },
    {
      "cell_type": "code",
      "metadata": {
        "id": "KbXri15fY--Z"
      },
      "source": [
        "# Write customers_df to table in RDS\n",
        "# 5 min 14 s\n",
        "customers_df.write.jdbc(url=jdbc_url, table='customers_table', mode=mode, properties=config)"
      ],
      "execution_count": null,
      "outputs": []
    },
    {
      "cell_type": "code",
      "metadata": {
        "id": "XdQknSHLY--e"
      },
      "source": [
        "# Write vine_df to table in RDS\n",
        "# 11 minutes\n",
        "vine_df.write.jdbc(url=jdbc_url, table='vine_table', mode=mode, properties=config)"
      ],
      "execution_count": null,
      "outputs": []
    },
    {
      "cell_type": "code",
      "metadata": {
        "id": "Exuo6ebUsCqW"
      },
      "source": [
        ""
      ],
      "execution_count": null,
      "outputs": []
    }
  ]
}