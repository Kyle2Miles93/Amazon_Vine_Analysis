{
  "nbformat": 4,
  "nbformat_minor": 0,
  "metadata": {
    "colab": {
      "name": "Vine_Review_Analysis.ipynb",
      "provenance": [],
      "collapsed_sections": []
    },
    "kernelspec": {
      "name": "python3",
      "display_name": "Python 3"
    },
    "language_info": {
      "name": "python"
    }
  },
  "cells": [
    {
      "cell_type": "code",
      "metadata": {
        "colab": {
          "base_uri": "https://localhost:8080/"
        },
        "id": "9WGWYvsGMeE5",
        "outputId": "ec8eb478-4f47-4d05-c5b9-05465ebfd1fb"
      },
      "source": [
        "import os\n",
        "# Find the latest version of spark 2.0  from http://www-us.apache.org/dist/spark/ and enter as the spark version\n",
        "# For example:\n",
        "# spark_version = 'spark-3.0.2'\n",
        "spark_version = 'spark-3.0.2'\n",
        "os.environ['SPARK_VERSION']=spark_version\n",
        "\n",
        "# Install Spark and Java\n",
        "!apt-get update\n",
        "!apt-get install openjdk-11-jdk-headless -qq > /dev/null\n",
        "!wget -q http://www-us.apache.org/dist/spark/$SPARK_VERSION/$SPARK_VERSION-bin-hadoop2.7.tgz\n",
        "!tar xf $SPARK_VERSION-bin-hadoop2.7.tgz\n",
        "!pip install -q findspark\n",
        "\n",
        "# Set Environment Variables\n",
        "import os\n",
        "os.environ[\"JAVA_HOME\"] = \"/usr/lib/jvm/java-11-openjdk-amd64\"\n",
        "os.environ[\"SPARK_HOME\"] = f\"/content/{spark_version}-bin-hadoop2.7\"\n",
        "\n",
        "# Start a SparkSession\n",
        "import findspark\n",
        "findspark.init()"
      ],
      "execution_count": 1,
      "outputs": [
        {
          "output_type": "stream",
          "text": [
            "\r0% [Working]\r            \rGet:1 https://cloud.r-project.org/bin/linux/ubuntu bionic-cran40/ InRelease [3,626 B]\n",
            "\r0% [Waiting for headers] [Waiting for headers] [1 InRelease 0 B/3,626 B 0%] [Wa\r0% [Waiting for headers] [Waiting for headers] [Waiting for headers] [Waiting f\r                                                                               \rIgn:2 https://developer.download.nvidia.com/compute/cuda/repos/ubuntu1804/x86_64  InRelease\n",
            "\r0% [Waiting for headers] [Waiting for headers] [Waiting for headers] [Waiting f\r0% [1 InRelease gpgv 3,626 B] [Waiting for headers] [Waiting for headers] [Wait\r                                                                               \rHit:3 http://archive.ubuntu.com/ubuntu bionic InRelease\n",
            "\r0% [1 InRelease gpgv 3,626 B] [Waiting for headers] [Waiting for headers] [Wait\r                                                                               \rGet:4 http://ppa.launchpad.net/c2d4u.team/c2d4u4.0+/ubuntu bionic InRelease [15.9 kB]\n",
            "\r0% [1 InRelease gpgv 3,626 B] [Waiting for headers] [Waiting for headers] [4 In\r                                                                               \rGet:5 http://security.ubuntu.com/ubuntu bionic-security InRelease [88.7 kB]\n",
            "\r0% [1 InRelease gpgv 3,626 B] [Waiting for headers] [5 InRelease 14.2 kB/88.7 k\r                                                                               \rIgn:6 https://developer.download.nvidia.com/compute/machine-learning/repos/ubuntu1804/x86_64  InRelease\n",
            "Hit:7 https://developer.download.nvidia.com/compute/cuda/repos/ubuntu1804/x86_64  Release\n",
            "Get:8 http://archive.ubuntu.com/ubuntu bionic-updates InRelease [88.7 kB]\n",
            "Hit:9 https://developer.download.nvidia.com/compute/machine-learning/repos/ubuntu1804/x86_64  Release\n",
            "Hit:10 http://ppa.launchpad.net/cran/libgit2/ubuntu bionic InRelease\n",
            "Get:11 https://cloud.r-project.org/bin/linux/ubuntu bionic-cran40/ Packages [52.7 kB]\n",
            "Get:12 http://archive.ubuntu.com/ubuntu bionic-backports InRelease [74.6 kB]\n",
            "Get:13 http://ppa.launchpad.net/deadsnakes/ppa/ubuntu bionic InRelease [15.9 kB]\n",
            "Hit:14 http://ppa.launchpad.net/graphics-drivers/ppa/ubuntu bionic InRelease\n",
            "Get:16 http://ppa.launchpad.net/c2d4u.team/c2d4u4.0+/ubuntu bionic/main Sources [1,749 kB]\n",
            "Get:18 http://security.ubuntu.com/ubuntu bionic-security/main amd64 Packages [2,045 kB]\n",
            "Get:19 http://ppa.launchpad.net/c2d4u.team/c2d4u4.0+/ubuntu bionic/main amd64 Packages [895 kB]\n",
            "Get:20 http://archive.ubuntu.com/ubuntu bionic-updates/universe amd64 Packages [2,170 kB]\n",
            "Get:21 http://security.ubuntu.com/ubuntu bionic-security/universe amd64 Packages [1,402 kB]\n",
            "Get:22 http://archive.ubuntu.com/ubuntu bionic-updates/main amd64 Packages [2,475 kB]\n",
            "Get:23 http://ppa.launchpad.net/deadsnakes/ppa/ubuntu bionic/main amd64 Packages [39.5 kB]\n",
            "Fetched 11.1 MB in 4s (3,162 kB/s)\n",
            "Reading package lists... Done\n"
          ],
          "name": "stdout"
        }
      ]
    },
    {
      "cell_type": "code",
      "metadata": {
        "id": "O2cqp99iNFty"
      },
      "source": [
        "from pyspark.sql import SparkSession\n",
        "spark = SparkSession.builder.appName(\"BigData-Challenge\").getOrCreate()"
      ],
      "execution_count": 2,
      "outputs": []
    },
    {
      "cell_type": "code",
      "metadata": {
        "id": "JFMuKzhiR_R0"
      },
      "source": [
        "from pyspark import SparkFiles\n",
        "url = \"https://s3.amazonaws.com/amazon-reviews-pds/tsv/amazon_reviews_multilingual_DE_v1_00.tsv.gz\"\n",
        "spark.sparkContext.addFile(url)\n",
        "df = spark.read.option(\"encoding\", \"UTF-8\").csv(SparkFiles.get(\"amazon_reviews_multilingual_DE_v1_00.tsv.gz\"), sep=\"\\t\", header=True, inferSchema=True)"
      ],
      "execution_count": 3,
      "outputs": []
    },
    {
      "cell_type": "code",
      "metadata": {
        "colab": {
          "base_uri": "https://localhost:8080/"
        },
        "id": "NUeV1Vo3S45c",
        "outputId": "7c21a477-e904-49f6-8e19-79ebab06e6c9"
      },
      "source": [
        "from pyspark.sql.functions import *\n",
        "# Read in the Review dataset as a DataFrame\n",
        "df.show()"
      ],
      "execution_count": 4,
      "outputs": [
        {
          "output_type": "stream",
          "text": [
            "+-----------+-----------+--------------+----------+--------------+--------------------+--------------------+-----------+-------------+-----------+----+-----------------+--------------------+--------------------+-----------+\n",
            "|marketplace|customer_id|     review_id|product_id|product_parent|       product_title|    product_category|star_rating|helpful_votes|total_votes|vine|verified_purchase|     review_headline|         review_body|review_date|\n",
            "+-----------+-----------+--------------+----------+--------------+--------------------+--------------------+-----------+-------------+-----------+----+-----------------+--------------------+--------------------+-----------+\n",
            "|         DE|      10133| RVOG49N0H1FB6|B004TACMZ8|     569741360|Bosch GMS120 Ortu...|    Home Improvement|          5|            0|          0|   N|                Y|               Super|Delivery took a l...| 2014-08-01|\n",
            "|         DE|      19612| RNCMD6OLTP4HM|1846071224|     785505948|The Wheels On The...|               Books|          5|            1|          1|   N|                Y|   Great compilation|We enjoy listenin...| 2014-12-04|\n",
            "|         DE|      19612| R4AUOBI8YC0R8|0375851569|     516548029|Dr. Seuss's  Begi...|               Books|          5|            0|          0|   N|                Y|    Great Collection|Very great compil...| 2014-12-04|\n",
            "|         DE|      19677|R1VSHIJ1RHIBTE|B0060SVG54|     302116447|   Zwei an einem Tag|           Video DVD|          5|            0|          0|   N|                Y|    Guter Verfilmung|Den Film habe ich...| 2015-07-16|\n",
            "|         DE|      19999|R3JBLVALWSLCZD|B00EYQ6CVC|     368843515|Dr. House - Die k...|           Video DVD|          5|            9|         14|   N|                Y|    Kauft diese Box!|Die Box ist super...| 2014-02-08|\n",
            "|         DE|      20014| RJ6GK77Y2NKCK|B00MC1CCAG|     663681053|     This is England|Digital_Video_Dow...|          4|            6|          7|   N|                Y|Guter Film mit pa...|Sehr guter Film m...| 2014-11-11|\n",
            "|         DE|      20152| R13W0E5EDX50J|B005D7FKWI|     182054491|Seiko Herren-Armb...|             Watches|          5|            0|          1|   N|                Y|           tolle uhr|habe die Uhr jetz...| 2013-10-04|\n",
            "|         DE|      20152|R2L8UN6YSPY1CK|B007W9KQ9W|     251269761|Battleship [Blu-ray]|           Video DVD|          3|            1|          3|   N|                Y|         popkornkino|die geschichte sc...| 2013-10-04|\n",
            "|         DE|      20152| RA2DFU68J832H|B005F3DFXG|     283218719|Planet Dinosaur [...|           Video DVD|          4|            1|          1|   N|                Y|     planet dinosaur|englische Origina...| 2013-10-04|\n",
            "|         DE|      20152|R191XKANDDV34N|B00EYXGOYK|     678332854|Thor  (+ BR) [3D ...|           Video DVD|          4|            0|          1|   N|                Y| schönes popcornkino|der film ist wirk...| 2013-11-29|\n",
            "|         DE|      20152| RD2NWWDF0S2B9|B00BRC6PYU|     715581077|Cirque du Soleil:...|           Video DVD|          4|            0|          0|   N|                N|         schöne doku|cameron hat hier ...| 2014-05-21|\n",
            "|         DE|      20152|R35SNJXI0Y9J1T|B00DZFMC4Y|     542832677|Star Wars: The Cl...|           Video DVD|          5|            1|          2|   N|                Y|        gute staffel|wie die Vorgänger...| 2014-05-21|\n",
            "|         DE|      20152| RINDU5W9G6K4N|B00F6MQUTW|     827187473|Prometheus - Dunk...|           Video DVD|          4|            1|          4|   N|                N|         tolles kino|bis auf das offen...| 2014-05-21|\n",
            "|         DE|      20152| RST7O96P1CQ1W|B007IPJDWQ|     316484262| The Thing [Blu-ray]|           Video DVD|          4|            0|          0|   N|                Y|    kein kurt russel|der film ist dem ...| 2014-05-21|\n",
            "|         DE|      20376|R1XHO93RQTYDOC|B009WIJW7S|     888030084|Vielleicht lieber...|           Video DVD|          5|            0|          0|   N|                Y|         Toller Film|Ich möchte gar ni...| 2013-11-20|\n",
            "|         DE|      20376|R36ZVPG9CLQ9AA|B008JR9DEA|      49567875|Falling Skies - D...|           Video DVD|          5|            0|          3|   N|                Y|         Tolle Serie|Ich finde Falling...| 2013-11-20|\n",
            "|         DE|      20402|R1V0KMT27C9V2T|B0041LG08U|     377907320|Seiko Herren-Armb...|             Watches|          5|            2|          3|   N|                Y|    very very glossy|unglaublich was s...| 2013-06-16|\n",
            "|         DE|      20426| RKAV2XKT05EMW|B00HFVE8QE|     590459143|  Skateboard Party 2|         Mobile_Apps|          4|            1|          4|   N|                Y|k&ouml;nnte noch ...|spielt sich wie d...| 2015-01-31|\n",
            "|         DE|      20426|R2BPDAX4D5S1WK|B00QUY6MZM|     672024888|        Interstellar|           Video DVD|          5|            0|          4|   N|                Y|Bester Sci-Fi Fil...|Für Sci-Fi-Fans u...| 2015-05-15|\n",
            "|         DE|      20426|R3FI2HPM7ZDHUP|B00CA3C1N4|     276804524|     Starlink (Full)|         Mobile_Apps|          5|            0|          0|   N|                Y|Dieses Spiel mach...|Hier vereinen sic...| 2015-06-20|\n",
            "+-----------+-----------+--------------+----------+--------------+--------------------+--------------------+-----------+-------------+-----------+----+-----------------+--------------------+--------------------+-----------+\n",
            "only showing top 20 rows\n",
            "\n"
          ],
          "name": "stdout"
        }
      ]
    },
    {
      "cell_type": "code",
      "metadata": {
        "colab": {
          "base_uri": "https://localhost:8080/"
        },
        "id": "lzJ-03qWUBlu",
        "outputId": "616fafcc-59aa-46dd-af9e-32765162e063"
      },
      "source": [
        "# Create the vine_table DataFrame\n",
        "vine_df = df.select([\"review_id\", \"star_rating\", \"helpful_votes\", \"total_votes\", \"vine\", \"verified_purchase\"])\n",
        "vine_df.show()"
      ],
      "execution_count": 5,
      "outputs": [
        {
          "output_type": "stream",
          "text": [
            "+--------------+-----------+-------------+-----------+----+-----------------+\n",
            "|     review_id|star_rating|helpful_votes|total_votes|vine|verified_purchase|\n",
            "+--------------+-----------+-------------+-----------+----+-----------------+\n",
            "| RVOG49N0H1FB6|          5|            0|          0|   N|                Y|\n",
            "| RNCMD6OLTP4HM|          5|            1|          1|   N|                Y|\n",
            "| R4AUOBI8YC0R8|          5|            0|          0|   N|                Y|\n",
            "|R1VSHIJ1RHIBTE|          5|            0|          0|   N|                Y|\n",
            "|R3JBLVALWSLCZD|          5|            9|         14|   N|                Y|\n",
            "| RJ6GK77Y2NKCK|          4|            6|          7|   N|                Y|\n",
            "| R13W0E5EDX50J|          5|            0|          1|   N|                Y|\n",
            "|R2L8UN6YSPY1CK|          3|            1|          3|   N|                Y|\n",
            "| RA2DFU68J832H|          4|            1|          1|   N|                Y|\n",
            "|R191XKANDDV34N|          4|            0|          1|   N|                Y|\n",
            "| RD2NWWDF0S2B9|          4|            0|          0|   N|                N|\n",
            "|R35SNJXI0Y9J1T|          5|            1|          2|   N|                Y|\n",
            "| RINDU5W9G6K4N|          4|            1|          4|   N|                N|\n",
            "| RST7O96P1CQ1W|          4|            0|          0|   N|                Y|\n",
            "|R1XHO93RQTYDOC|          5|            0|          0|   N|                Y|\n",
            "|R36ZVPG9CLQ9AA|          5|            0|          3|   N|                Y|\n",
            "|R1V0KMT27C9V2T|          5|            2|          3|   N|                Y|\n",
            "| RKAV2XKT05EMW|          4|            1|          4|   N|                Y|\n",
            "|R2BPDAX4D5S1WK|          5|            0|          4|   N|                Y|\n",
            "|R3FI2HPM7ZDHUP|          5|            0|          0|   N|                Y|\n",
            "+--------------+-----------+-------------+-----------+----+-----------------+\n",
            "only showing top 20 rows\n",
            "\n"
          ],
          "name": "stdout"
        }
      ]
    },
    {
      "cell_type": "code",
      "metadata": {
        "colab": {
          "base_uri": "https://localhost:8080/"
        },
        "id": "ScPP0_EbVCzu",
        "outputId": "9c9f19b7-d3b0-478c-eabd-ddbb8c57aaba"
      },
      "source": [
        "vine_filtered_votes = vine_df.filter(vine_df.total_votes >= 20)\n",
        "vine_filtered_votes.show()"
      ],
      "execution_count": 6,
      "outputs": [
        {
          "output_type": "stream",
          "text": [
            "+--------------+-----------+-------------+-----------+----+-----------------+\n",
            "|     review_id|star_rating|helpful_votes|total_votes|vine|verified_purchase|\n",
            "+--------------+-----------+-------------+-----------+----+-----------------+\n",
            "|R3JSOBULWNE10K|          5|           14|         23|   N|                N|\n",
            "| R973TDYT0B600|          4|          289|        350|   N|                Y|\n",
            "|R2A78SJJS8NPUK|          5|           37|         56|   N|                Y|\n",
            "| RF3JH2YYCJKRM|          4|            2|         40|   N|                Y|\n",
            "|R31KTNNEZK2IDF|          2|            2|         32|   N|                Y|\n",
            "|R1QTHPDQZZ4HCX|          1|            5|         86|   N|                Y|\n",
            "|R2UT7AZ2X3AY1A|          4|           46|         49|   N|                Y|\n",
            "| RH6ZMZVUIKMAG|          1|            5|         26|   N|                Y|\n",
            "|R3TH9UIAKX1FF1|          1|            5|         22|   N|                Y|\n",
            "|R3FV6QDK4DS9CI|          1|           23|         47|   N|                N|\n",
            "|R1HAGIRT9K8YYH|          5|           19|         35|   N|                N|\n",
            "|R35XPA8PFX88SH|          4|           44|         53|   N|                N|\n",
            "| ROL6706VGJFC6|          5|           44|         59|   N|                N|\n",
            "|R2Q4X8IISMCPT1|          1|            5|         45|   N|                Y|\n",
            "|R1N083E2R19ERF|          1|            1|         51|   N|                N|\n",
            "|R119JA8HSP2PMZ|          1|            4|         39|   N|                Y|\n",
            "| RP4VCF1MFAMLW|          1|            0|         22|   N|                Y|\n",
            "|R3CYZYCBJ4KXMF|          1|           15|         20|   N|                N|\n",
            "|R2P7AWG36QK0LN|          5|           68|         76|   N|                Y|\n",
            "|R17Q8279ZKZ630|          1|           12|         20|   N|                Y|\n",
            "+--------------+-----------+-------------+-----------+----+-----------------+\n",
            "only showing top 20 rows\n",
            "\n"
          ],
          "name": "stdout"
        }
      ]
    },
    {
      "cell_type": "code",
      "metadata": {
        "colab": {
          "base_uri": "https://localhost:8080/"
        },
        "id": "wpUQuC9gbudS",
        "outputId": "66005fa2-1cb9-47a5-fd9e-7c43ac7e2062"
      },
      "source": [
        "vine_helpful = vine_filtered_votes.filter((vine_filtered_votes.helpful_votes / vine_filtered_votes.total_votes) >= 0.5)\n",
        "vine_helpful.show()"
      ],
      "execution_count": 7,
      "outputs": [
        {
          "output_type": "stream",
          "text": [
            "+--------------+-----------+-------------+-----------+----+-----------------+\n",
            "|     review_id|star_rating|helpful_votes|total_votes|vine|verified_purchase|\n",
            "+--------------+-----------+-------------+-----------+----+-----------------+\n",
            "|R3JSOBULWNE10K|          5|           14|         23|   N|                N|\n",
            "| R973TDYT0B600|          4|          289|        350|   N|                Y|\n",
            "|R2A78SJJS8NPUK|          5|           37|         56|   N|                Y|\n",
            "|R2UT7AZ2X3AY1A|          4|           46|         49|   N|                Y|\n",
            "|R1HAGIRT9K8YYH|          5|           19|         35|   N|                N|\n",
            "|R35XPA8PFX88SH|          4|           44|         53|   N|                N|\n",
            "| ROL6706VGJFC6|          5|           44|         59|   N|                N|\n",
            "|R3CYZYCBJ4KXMF|          1|           15|         20|   N|                N|\n",
            "|R2P7AWG36QK0LN|          5|           68|         76|   N|                Y|\n",
            "|R17Q8279ZKZ630|          1|           12|         20|   N|                Y|\n",
            "| R9POCQRQ8BXY5|          5|           15|         20|   N|                N|\n",
            "| RAX9SNZXZBUTH|          5|           53|         64|   N|                Y|\n",
            "|R10E8VUVZN5RUU|          4|           44|         52|   N|                Y|\n",
            "|R33V79146RDQX0|          5|           34|         42|   N|                N|\n",
            "|R1TPGVTAO741X7|          3|           50|         54|   N|                Y|\n",
            "|R1DH612A2ED0C2|          5|           30|         34|   N|                Y|\n",
            "| RZO9XU8F6AR79|          5|           17|         21|   N|                Y|\n",
            "|R3R1NL5MH8WSI7|          5|           21|         23|   N|                Y|\n",
            "|R1ZX3RUYCUBS8C|          3|           32|         41|   N|                N|\n",
            "|R2UN3MEY8IJNSX|          5|           31|         38|   N|                Y|\n",
            "+--------------+-----------+-------------+-----------+----+-----------------+\n",
            "only showing top 20 rows\n",
            "\n"
          ],
          "name": "stdout"
        }
      ]
    },
    {
      "cell_type": "code",
      "metadata": {
        "colab": {
          "base_uri": "https://localhost:8080/"
        },
        "id": "-nlKPWBidNqS",
        "outputId": "a47940db-2f27-4418-85e5-cbe3521e9bf5"
      },
      "source": [
        "# Filter for paid programs\n",
        "paid_vine_df = vine_helpful.filter(vine_helpful.vine == \"Y\")\n",
        "paid_vine_df.show()"
      ],
      "execution_count": 8,
      "outputs": [
        {
          "output_type": "stream",
          "text": [
            "+--------------+-----------+-------------+-----------+----+-----------------+\n",
            "|     review_id|star_rating|helpful_votes|total_votes|vine|verified_purchase|\n",
            "+--------------+-----------+-------------+-----------+----+-----------------+\n",
            "|R11E7I5VQ03MK9|          3|          179|        222|   Y|                N|\n",
            "| RIPUS8IPBEQ3I|          4|           37|         40|   Y|                N|\n",
            "|R2QREWQEZOB2CK|          5|           21|         24|   Y|                N|\n",
            "| R9RWVZPQ6MZES|          5|           23|         23|   Y|                N|\n",
            "|R3TWKO71IXOP02|          3|           49|         51|   Y|                N|\n",
            "|R3T1ONLG4I4GVH|          5|           25|         29|   Y|                N|\n",
            "|R2E1FQHAOPHG51|          5|           59|         73|   Y|                N|\n",
            "| RMPKTFKVEF5VL|          4|           13|         22|   Y|                N|\n",
            "|R1G2VBVXL4U7R6|          4|          121|        137|   Y|                N|\n",
            "|R2D7X1L8I2JSZE|          3|           19|         21|   Y|                N|\n",
            "|R1RWR835RHN1GK|          5|          162|        172|   Y|                N|\n",
            "| RA262N08K0WV9|          4|           33|         36|   Y|                N|\n",
            "| RZSYOGC66PR6X|          2|           17|         22|   Y|                N|\n",
            "|R2BDQVP0138R33|          4|           28|         32|   Y|                N|\n",
            "| RSNUXSJFHFZ77|          5|           12|         23|   Y|                N|\n",
            "|R3C9G501XBOW99|          4|           21|         27|   Y|                N|\n",
            "|R3V3N0SWQS7ZFO|          5|           18|         23|   Y|                N|\n",
            "|R29DULU9LZNMZA|          5|           16|         21|   Y|                N|\n",
            "| RC4PG6ZQBO5DQ|          4|          106|        110|   Y|                N|\n",
            "|R1FXHTBYHRJPTM|          4|           28|         30|   Y|                N|\n",
            "+--------------+-----------+-------------+-----------+----+-----------------+\n",
            "only showing top 20 rows\n",
            "\n"
          ],
          "name": "stdout"
        }
      ]
    },
    {
      "cell_type": "code",
      "metadata": {
        "colab": {
          "base_uri": "https://localhost:8080/"
        },
        "id": "SEI_nO7set9r",
        "outputId": "e390081d-c775-49ad-8cf0-fdf646d7b57d"
      },
      "source": [
        "# Filter for unpaid programs\n",
        "vine_unpaid_df = vine_helpful.filter(vine_helpful.vine == \"N\")\n",
        "vine_unpaid_df.show()"
      ],
      "execution_count": 9,
      "outputs": [
        {
          "output_type": "stream",
          "text": [
            "+--------------+-----------+-------------+-----------+----+-----------------+\n",
            "|     review_id|star_rating|helpful_votes|total_votes|vine|verified_purchase|\n",
            "+--------------+-----------+-------------+-----------+----+-----------------+\n",
            "|R3JSOBULWNE10K|          5|           14|         23|   N|                N|\n",
            "| R973TDYT0B600|          4|          289|        350|   N|                Y|\n",
            "|R2A78SJJS8NPUK|          5|           37|         56|   N|                Y|\n",
            "|R2UT7AZ2X3AY1A|          4|           46|         49|   N|                Y|\n",
            "|R1HAGIRT9K8YYH|          5|           19|         35|   N|                N|\n",
            "|R35XPA8PFX88SH|          4|           44|         53|   N|                N|\n",
            "| ROL6706VGJFC6|          5|           44|         59|   N|                N|\n",
            "|R3CYZYCBJ4KXMF|          1|           15|         20|   N|                N|\n",
            "|R2P7AWG36QK0LN|          5|           68|         76|   N|                Y|\n",
            "|R17Q8279ZKZ630|          1|           12|         20|   N|                Y|\n",
            "| R9POCQRQ8BXY5|          5|           15|         20|   N|                N|\n",
            "| RAX9SNZXZBUTH|          5|           53|         64|   N|                Y|\n",
            "|R10E8VUVZN5RUU|          4|           44|         52|   N|                Y|\n",
            "|R33V79146RDQX0|          5|           34|         42|   N|                N|\n",
            "|R1TPGVTAO741X7|          3|           50|         54|   N|                Y|\n",
            "|R1DH612A2ED0C2|          5|           30|         34|   N|                Y|\n",
            "| RZO9XU8F6AR79|          5|           17|         21|   N|                Y|\n",
            "|R3R1NL5MH8WSI7|          5|           21|         23|   N|                Y|\n",
            "|R1ZX3RUYCUBS8C|          3|           32|         41|   N|                N|\n",
            "|R2UN3MEY8IJNSX|          5|           31|         38|   N|                Y|\n",
            "+--------------+-----------+-------------+-----------+----+-----------------+\n",
            "only showing top 20 rows\n",
            "\n"
          ],
          "name": "stdout"
        }
      ]
    },
    {
      "cell_type": "code",
      "metadata": {
        "colab": {
          "base_uri": "https://localhost:8080/"
        },
        "id": "snep-xygfDtb",
        "outputId": "6e83f8ce-0f84-4b11-ab8a-a6db6bf20e01"
      },
      "source": [
        "# Determine the total number of reviews, the number of 5-star reviews, \n",
        "# and the percentage of 5-star reviews for the two types of review (paid vs unpaid).\n",
        "paid_five_star = paid_vine_df.filter(paid_vine_df.star_rating == 5).count()\n",
        "unpaid_five_star = vine_unpaid_df.filter(vine_unpaid_df.star_rating == 5).count()\n",
        "total_rev_paid = paid_vine_df.distinct().count()\n",
        "total_unpaid_revs = vine_unpaid_df.distinct().count()\n",
        "\n",
        "percent_5star_paid = paid_vine_df.filter(paid_vine_df.star_rating == 5)\n",
        "percent_5star_paid = (percent_5star_paid.count() / paid_vine_df.count()) * 100\n",
        "\n",
        "percent_5star_unpaid = vine_unpaid_df.filter(vine_unpaid_df.star_rating == 5)\n",
        "percent_5star_unpaid = (percent_5star_unpaid.count() / vine_unpaid_df.count()) * 100 \n",
        "\n",
        "print(f\"The number of five star ratings for paid programs was {paid_five_star}\")\n",
        "print(f\"The number of five star ratings for unpaid programs was {unpaid_five_star}\")\n",
        "print(f\"The total number of paid reviews was {total_rev_paid}\")\n",
        "print(f\"The total number of unpaid reviews was {total_unpaid_revs}\")\n",
        "print(f\"The total percentage of 5-star reviews for paid programs was {format(percent_5star_paid, '.2f')}%\")\n",
        "print(f\"The total percentage of 5-star reviews for unpaid programs was {format(percent_5star_unpaid, '.2f')}%\") "
      ],
      "execution_count": 52,
      "outputs": [
        {
          "output_type": "stream",
          "text": [
            "The number of five star ratings for paid programs was 9\n",
            "The number of five star ratings for unpaid programs was 15784\n",
            "The total number of paid reviews was 26\n",
            "The total number of unpaid reviews was 29264\n",
            "The total percentage of 5-star reviews for paid programs was 34.62%\n",
            "The total percentage of 5-star reviews for unpaid programs was 53.94%\n"
          ],
          "name": "stdout"
        }
      ]
    },
    {
      "cell_type": "code",
      "metadata": {
        "id": "YRe1yS7VrKPI"
      },
      "source": [
        ""
      ],
      "execution_count": null,
      "outputs": []
    }
  ]
}